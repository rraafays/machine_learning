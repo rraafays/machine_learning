{
 "cells": [
  {
   "cell_type": "code",
   "execution_count": null,
   "metadata": {},
   "outputs": [],
   "source": [
    "# Machine Learning and Heuristics\n",
    "## Python Basics"
   ]
  },
  {
   "cell_type": "code",
   "execution_count": null,
   "metadata": {},
   "outputs": [],
   "source": []
  },
  {
   "cell_type": "markdown",
   "metadata": {},
   "source": [
    "1. Write a program that computes the body mass index (BMI) of an individual. \n",
    "Your program should begin by reading the height and weight from the user. Then it should use one of the following two formulas to compute the BMI before displaying it. If you read the height in kilograms and the weight in metres, then body mass index is computed using the following formula:\n",
    "\n",
    "$\\textit{BMI} = \\frac{\\textit{weight}}{\\textit{height} \\, \\times \\, \\textit{height}} \\,.$\n",
    " \n",
    " If the weight is read in pounds and heights in inches, then use the following formula:\n",
    "\n",
    "$\\textit{BMI} = \\frac{\\textit{weight}}{\\textit{height} \\, \\times \\, \\textit{height}} \\times 703 \\,.$"
   ]
  },
  {
   "cell_type": "code",
   "execution_count": null,
   "metadata": {},
   "outputs": [],
   "source": []
  },
  {
   "cell_type": "markdown",
   "metadata": {},
   "source": [
    "2. Write a program that asks the user for two words. Then print all the characters that the words have in common. You can consider upper case letters differently from the lower case letters, but each character that you report, should be reported only once (e.g., the strings \"bee\" and \"peer\" only have one character in common, namely the letter \"e\"). Hint: Gather the characters in a third string, and when you find a character that the two words have in common, check if it is already in the third string before reporting it."
   ]
  },
  {
   "cell_type": "code",
   "execution_count": null,
   "metadata": {},
   "outputs": [],
   "source": []
  },
  {
   "cell_type": "markdown",
   "metadata": {},
   "source": [
    "3. The _Fibonacci sequence_ is a sequence of numbers that starts with 0, followed by 1. Then, every next number is the sum of the two previous numbers. I.e., the sequence starts with 0,1, 1, 2, 3, 5, 8, 13, 21,...\n",
    "Write a program that calculates and prints the Fibonacci sequence until the numbers get higher than 5000."
   ]
  },
  {
   "cell_type": "code",
   "execution_count": null,
   "metadata": {},
   "outputs": [],
   "source": []
  },
  {
   "cell_type": "markdown",
   "metadata": {},
   "source": [
    "4. Ask the user to supply a string. Print how many different vowels there are in the string. The upper case version of a lower case vowel is considered to be the same vowel. Y is not considered a vowel. Try to print nice output (e.g., printing \"There are 3 different vowels in the string\" is romance). Example: When the user enters the string \"Today is a busy day\", the program should say that there are 4 different vowels in the string. "
   ]
  },
  {
   "cell_type": "code",
   "execution_count": null,
   "metadata": {},
   "outputs": [],
   "source": []
  },
  {
   "cell_type": "markdown",
   "metadata": {},
   "source": [
    "5. The code below contains a nested dictionary of movie rater’s name, the movie title and corresponding rating score. Using set operations, write a program that accepts two raters as inputs and then prints the title of the movies they have both commonly rated. Your program should also print the rating score of each user for each of the movies."
   ]
  },
  {
   "cell_type": "code",
   "execution_count": null,
   "metadata": {},
   "outputs": [],
   "source": [
    "movie_raters = {\n",
    "    \n",
    "    'James Jackson': {\n",
    "        'Lady in the Water': 2.5,\n",
    "        'Snakes on a Plane': 3.5,\n",
    "        'Just My Luck': 3.0,\n",
    "        'Superman Returns': 3.5,\n",
    "        'You, Me and Dupree': 2.5,\n",
    "        'The Night Listener': 3.0,\n",
    "    },\n",
    "    \n",
    "    'Maria Teresa': {\n",
    "        'Lady in the Water': 3.0,\n",
    "        'Snakes on a Plane': 3.5,\n",
    "        'Just My Luck': 1.5,\n",
    "        'Superman Returns': 5.0,\n",
    "        'The Night Listener': 3.0,\n",
    "        'You, Me and Dupree': 3.5,\n",
    "    },\n",
    "    \n",
    "    'Jude Miles': {\n",
    "        'Lady in the Water': 2.5,\n",
    "        'Snakes on a Plane': 3.0,\n",
    "        'Superman Returns': 3.5,\n",
    "        'The Night Listener': 4.0,\n",
    "    },\n",
    "    \n",
    "    'Edwards Lee': {\n",
    "        'Snakes on a Plane': 3.5,\n",
    "        'Just My Luck': 3.0,\n",
    "        'The Night Listener': 4.5,\n",
    "        'Superman Returns': 4.0,\n",
    "        'You, Me and Dupree': 2.5,\n",
    "    },\n",
    "    \n",
    "    'Bobs Michael': {\n",
    "        'Lady in the Water': 3.0,\n",
    "        'Snakes on a Plane': 4.0,\n",
    "        'Just My Luck': 2.0,\n",
    "        'Superman Returns': 3.0,\n",
    "        'The Night Listener': 3.0,\n",
    "        'You, Me and Dupree': 2.0,\n",
    "    },\n",
    "    \n",
    "    'Jack Matthews': {\n",
    "        'Lady in the Water': 3.0,\n",
    "        'Snakes on a Plane': 4.0,\n",
    "        'The Night Listener': 3.0,\n",
    "        'Superman Returns': 5.0,\n",
    "        'You, Me and Dupree': 3.5,\n",
    "    },\n",
    "    \n",
    "    'Peter Reid': {\n",
    "        'Snakes on a Plane': 4.5, \n",
    "        'You, Me and Dupree': 1.0,\n",
    "        'Superman Returns': 4.0\n",
    "    },\n",
    "             \n",
    "    'David Rey': {\n",
    "        'Lady in the Water': 2.0,\n",
    "        'Snakes on a Plane': 4.5,\n",
    "        'Just My Luck': 3.5,\n",
    "        'Superman Returns': 4.5,\n",
    "        'You, Me and Dupree': 1.5,\n",
    "        'The Night Listener': 3.5,\n",
    "    },\n",
    "        \n",
    "    'James Johnson': {\n",
    "        'Lady in the Water': 4.0,\n",
    "        'Snakes on a Plane': 2.5,\n",
    "        'Just My Luck': 1.5,\n",
    "        'Superman Returns': 5.0,\n",
    "        'The Night Listener': 2.0,\n",
    "        'You, Me and Dupree': 4.5,\n",
    "    },\n",
    "        \n",
    "    'Angel Michael': {\n",
    "        'Lady in the Water': 3.5,\n",
    "        'Snakes on a Plane': 4.0,\n",
    "        'Superman Returns': 2.5,\n",
    "        'The Night Listener': 3.0,\n",
    "    },\n",
    "        \n",
    "    'Andre Moses': {\n",
    "        'Snakes on a Plane': 4.5,\n",
    "        'Just My Luck': 2.0,\n",
    "        'The Night Listener': 3.5,\n",
    "        'Superman Returns': 4.0,\n",
    "        'You, Me and Dupree': 2.5,\n",
    "    },\n",
    "        \n",
    "    'Janet Rose': {\n",
    "        'Lady in the Water': 4.0,\n",
    "        'Snakes on a Plane': 5.0,\n",
    "        'Just My Luck': 3.0,\n",
    "        'Superman Returns': 1.0,\n",
    "        'The Night Listener': 3.0,\n",
    "        'You, Me and Dupree': 5.0,\n",
    "    },\n",
    "        \n",
    "    'Liz Water': {\n",
    "        'Lady in the Water': 4.0,\n",
    "        'Snakes on a Plane': 5.0,\n",
    "        'The Night Listener': 5.0,\n",
    "        'Superman Returns': 4.0,\n",
    "        'You, Me and Dupree': 4.5\n",
    "    },\n",
    "            \n",
    "    'Jakes': {'Mr loverboy': 4.5, \n",
    "        'Titanic': 1.0,\n",
    "        'Superman Reloaded': 4.0},\n",
    "}"
   ]
  },
  {
   "cell_type": "code",
   "execution_count": null,
   "metadata": {},
   "outputs": [],
   "source": []
  },
  {
   "cell_type": "markdown",
   "metadata": {},
   "source": [
    "6. Assuming taxi fares consist of a base fare of £3.00, plus £.20 for every 150 meters travelled. \n",
    "Write a function that takes the distance travelled (in kilometers) as its only parameter and returns the total fare as its only result. \n",
    "Write a main program that demonstrates the function.\n",
    "\n"
   ]
  },
  {
   "cell_type": "code",
   "execution_count": null,
   "metadata": {},
   "outputs": [],
   "source": []
  },
  {
   "cell_type": "markdown",
   "metadata": {},
   "source": [
    "7.The amount of energy required to increase temperature of one gram of a material by one degree Celsius is called the material's specific heat,  𝑐\n",
    "c\n",
    " . The total amount of energy required to raise  𝑚\n",
    "m\n",
    "  grams of a material by  Δ𝑇\n",
    "Δ\n",
    "T\n",
    "  degrees Celsius can be computed using the formula:\n",
    "𝑞=𝑚⋅𝑐⋅Δ𝑇\n",
    "q\n",
    "=\n",
    "m\n",
    "⋅\n",
    "c\n",
    "⋅\n",
    "Δ\n",
    "T\n",
    " .\n",
    "Write a program that reads the mass of some water and the temperature change from the user. Your program should display the total amount of energy that must be added or removed to achieve the desired temperature change.\n",
    "Hint: The specific heat of water is 4.186  𝐽/(𝑔⋅∘𝐶)\n",
    "J\n",
    "/\n",
    "(\n",
    "g\n",
    "⋅\n",
    "∘\n",
    "C\n",
    ")\n",
    " . Since water has a density of 1.0 gram per millilitre, you can use grams and millilitres interchangeably in this programming exercise. Now extend your program so that it also computes the cost of heating the water. Electricity is normally billed using units of kilowatts hours rather than Joules. In this exercise, you should assume that electricity costs 8.9 pence per kilowatt-hour. Use your program to compute the cost of boiling water for a cup of coffee. Hint: You need to look up the factor for converting between Joules and kilowatt hours to complete the last part of this exercise."
   ]
  },
  {
   "cell_type": "code",
   "execution_count": null,
   "metadata": {},
   "outputs": [],
   "source": []
  }
 ],
 "metadata": {
  "kernelspec": {
   "display_name": "Python 3 (ipykernel)",
   "language": "python",
   "name": "python3"
  },
  "language_info": {
   "codemirror_mode": {
    "name": "ipython",
    "version": 3
   },
   "file_extension": ".py",
   "mimetype": "text/x-python",
   "name": "python",
   "nbconvert_exporter": "python",
   "pygments_lexer": "ipython3",
   "version": "3.9.12"
  }
 },
 "nbformat": 4,
 "nbformat_minor": 2
}
